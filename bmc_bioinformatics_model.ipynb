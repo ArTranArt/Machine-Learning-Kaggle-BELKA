{
  "metadata": {
    "kernelspec": {
      "name": "python3",
      "display_name": "Python 3"
    },
    "language_info": {
      "name": "python",
      "version": "3.10.13",
      "mimetype": "text/x-python",
      "codemirror_mode": {
        "name": "ipython",
        "version": 3
      },
      "pygments_lexer": "ipython3",
      "nbconvert_exporter": "python",
      "file_extension": ".py"
    },
    "kaggle": {
      "accelerator": "none",
      "dataSources": [
        {
          "sourceId": 67356,
          "databundleVersionId": 8006601,
          "sourceType": "competition"
        }
      ],
      "dockerImageVersionId": 30698,
      "isInternetEnabled": true,
      "language": "python",
      "sourceType": "notebook",
      "isGpuEnabled": false
    },
    "colab": {
      "provenance": [],
      "toc_visible": true
    },
    "accelerator": "TPU"
  },
  "nbformat_minor": 5,
  "nbformat": 4,
  "cells": [
    {
      "cell_type": "code",
      "source": [],
      "metadata": {
        "id": "0STTS8pejsER"
      },
      "id": "0STTS8pejsER",
      "execution_count": null,
      "outputs": []
    },
    {
      "cell_type": "markdown",
      "source": [
        "# Leash Bio - Predict New Medicines with BELKA"
      ],
      "metadata": {
        "id": "jT2k0HFsmZqh"
      },
      "id": "jT2k0HFsmZqh"
    },
    {
      "cell_type": "markdown",
      "source": [
        "Nous avons décidé d'importer des parquets avec polars après quelques tests et des lectures d'articles."
      ],
      "metadata": {
        "id": "4T4SO2jImZqk"
      },
      "id": "4T4SO2jImZqk"
    },
    {
      "cell_type": "markdown",
      "source": [
        "| Import de test | pandas | polars |\n",
        "|----------------|--------|--------|\n",
        "| csv            | 4,19 s | 0,56 s |\n",
        "| parquet        | 1,3 s  | 0,45 s |\n"
      ],
      "metadata": {
        "id": "fSunLhoemZql"
      },
      "id": "fSunLhoemZql"
    },
    {
      "cell_type": "markdown",
      "source": [
        "| binds | count    |\n",
        "|-------|----------|\n",
        "| 0     | 293656924|\n",
        "| 1     | 1589906  |"
      ],
      "metadata": {
        "id": "YsKAx1gR84MB"
      },
      "id": "YsKAx1gR84MB"
    },
    {
      "cell_type": "markdown",
      "source": [
        "https://medium.com/@mariusz_kujawski/converting-csv-files-to-parquet-with-polars-pandas-dask-and-dackdb-52a77378349d\n",
        "https://medium.com/cuenex/pandas-2-0-vs-polars-the-ultimate-battle-a378eb75d6d1#:~:text=Polars%20appear%20to%20be%20the,Pandas%202.0%20(numpy%20backend)"
      ],
      "metadata": {
        "id": "r4Yem5lpmZqm"
      },
      "id": "r4Yem5lpmZqm"
    },
    {
      "cell_type": "code",
      "source": [
        "import numpy as np\n",
        "import pandas as pd\n",
        "import polars as pl\n",
        "import time"
      ],
      "metadata": {
        "execution": {
          "iopub.status.busy": "2024-05-26T20:25:49.980185Z",
          "iopub.execute_input": "2024-05-26T20:25:49.980992Z",
          "iopub.status.idle": "2024-05-26T20:25:49.991573Z",
          "shell.execute_reply.started": "2024-05-26T20:25:49.980952Z",
          "shell.execute_reply": "2024-05-26T20:25:49.990559Z"
        },
        "trusted": true,
        "id": "xzUtis5emZqn"
      },
      "execution_count": null,
      "outputs": [],
      "id": "xzUtis5emZqn"
    },
    {
      "cell_type": "markdown",
      "source": [
        "Import from gdrive"
      ],
      "metadata": {
        "id": "4cSSMCiuaYZF"
      },
      "id": "4cSSMCiuaYZF"
    },
    {
      "cell_type": "code",
      "source": [
        "# from google.colab import drive\n",
        "# drive.mount('/content/drive')\n",
        "# %cd '/content/drive/MyDrive/kaggle/Leash BELKA'"
      ],
      "metadata": {
        "id": "nA2cSxvKab90"
      },
      "id": "nA2cSxvKab90",
      "execution_count": null,
      "outputs": []
    },
    {
      "cell_type": "markdown",
      "source": [
        "Import from kaggle"
      ],
      "metadata": {
        "id": "S8sjvSPwaZ70"
      },
      "id": "S8sjvSPwaZ70"
    },
    {
      "cell_type": "code",
      "source": [
        "# # 1. Install Kaggle\n",
        "# !pip install -q kaggle\n",
        "# # 2. Import the files module from Colab and upload the kaggle.json file\n",
        "# from google.colab import files\n",
        "# files.upload()  # Choose the kaggle.json file that you downloaded\n",
        "\n",
        "# # 3. Make a directory named '.kaggle' and copy the kaggle.json file there\n",
        "# !mkdir ~/.kaggle\n",
        "# !cp kaggle.json ~/.kaggle/\n",
        "\n",
        "# # 4. Change the permissions of the file\n",
        "# !chmod 600 ~/.kaggle/kaggle.json\n",
        "\n",
        "# # # 5. Check if everything's okay by listing Kaggle datasets\n",
        "# # !kaggle datasets list\n",
        "\n",
        "# # 6. Download the competition data (replace 'name-of-competition' with the actual competition name)\n",
        "# !kaggle competitions download -c 'leash-BELKA'\n",
        "\n",
        "# # 7. Create a directory named 'train' and unzip the data there\n",
        "# !mkdir train\n",
        "# !unzip leash-BELKA.zip -d train"
      ],
      "metadata": {
        "id": "A1lufl3XnnSd"
      },
      "id": "A1lufl3XnnSd",
      "execution_count": null,
      "outputs": []
    },
    {
      "cell_type": "code",
      "source": [
        "start_time = time.time()\n",
        "train_df = pl.read_parquet(\"train99999.parquet\") #on ne peut pas importer plus, rip la ram\n",
        "end_time = time.time()\n",
        "\n",
        "elapsed_time = end_time - start_time\n",
        "\n",
        "print(f\"Temps écoulé: {elapsed_time:.2f} secondes\")"
      ],
      "metadata": {
        "execution": {
          "iopub.status.busy": "2024-05-26T20:25:49.992980Z",
          "iopub.execute_input": "2024-05-26T20:25:49.994137Z",
          "iopub.status.idle": "2024-05-26T20:25:50.058402Z",
          "shell.execute_reply.started": "2024-05-26T20:25:49.994099Z",
          "shell.execute_reply": "2024-05-26T20:25:50.057620Z"
        },
        "trusted": true,
        "colab": {
          "base_uri": "https://localhost:8080/"
        },
        "id": "W25aLYi1mZqo",
        "outputId": "00403598-7308-4d7a-f0dc-74fc43dbf89b"
      },
      "execution_count": null,
      "outputs": [
        {
          "output_type": "stream",
          "name": "stdout",
          "text": [
            "Temps écoulé: 0.21 secondes\n"
          ]
        }
      ],
      "id": "W25aLYi1mZqo"
    },
    {
      "cell_type": "code",
      "source": [
        "train_df.head()"
      ],
      "metadata": {
        "execution": {
          "iopub.status.busy": "2024-05-26T20:25:50.060333Z",
          "iopub.execute_input": "2024-05-26T20:25:50.060898Z",
          "iopub.status.idle": "2024-05-26T20:25:50.068007Z",
          "shell.execute_reply.started": "2024-05-26T20:25:50.060870Z",
          "shell.execute_reply": "2024-05-26T20:25:50.067292Z"
        },
        "trusted": true,
        "colab": {
          "base_uri": "https://localhost:8080/",
          "height": 252
        },
        "id": "-hAftbavmZqp",
        "outputId": "a3bde1cf-fa74-47d9-82b1-3661505b29ae"
      },
      "execution_count": null,
      "outputs": [
        {
          "output_type": "execute_result",
          "data": {
            "text/plain": [
              "shape: (5, 7)\n",
              "┌─────┬─────────────────┬─────────────────┬────────────────┬────────────────┬──────────────┬───────┐\n",
              "│ id  ┆ buildingblock1_ ┆ buildingblock2_ ┆ buildingblock3 ┆ molecule_smile ┆ protein_name ┆ binds │\n",
              "│ --- ┆ smiles          ┆ smiles          ┆ _smiles        ┆ s              ┆ ---          ┆ ---   │\n",
              "│ i64 ┆ ---             ┆ ---             ┆ ---            ┆ ---            ┆ str          ┆ i64   │\n",
              "│     ┆ str             ┆ str             ┆ str            ┆ str            ┆              ┆       │\n",
              "╞═════╪═════════════════╪═════════════════╪════════════════╪════════════════╪══════════════╪═══════╡\n",
              "│ 0   ┆ C#CC[C@@H](CC(= ┆ C#CCOc1ccc(CN)c ┆ Br.Br.NCC1CCCN ┆ C#CCOc1ccc(CNc ┆ BRD4         ┆ 0     │\n",
              "│     ┆ O)O)NC(=O)OCC1c ┆ c1.Cl           ┆ 1c1cccnn1      ┆ 2nc(NCC3CCCN3c ┆              ┆       │\n",
              "│     ┆ 2c…             ┆                 ┆                ┆ 3ccc…          ┆              ┆       │\n",
              "│ 1   ┆ C#CC[C@@H](CC(= ┆ C#CCOc1ccc(CN)c ┆ Br.Br.NCC1CCCN ┆ C#CCOc1ccc(CNc ┆ HSA          ┆ 0     │\n",
              "│     ┆ O)O)NC(=O)OCC1c ┆ c1.Cl           ┆ 1c1cccnn1      ┆ 2nc(NCC3CCCN3c ┆              ┆       │\n",
              "│     ┆ 2c…             ┆                 ┆                ┆ 3ccc…          ┆              ┆       │\n",
              "│ 2   ┆ C#CC[C@@H](CC(= ┆ C#CCOc1ccc(CN)c ┆ Br.Br.NCC1CCCN ┆ C#CCOc1ccc(CNc ┆ sEH          ┆ 0     │\n",
              "│     ┆ O)O)NC(=O)OCC1c ┆ c1.Cl           ┆ 1c1cccnn1      ┆ 2nc(NCC3CCCN3c ┆              ┆       │\n",
              "│     ┆ 2c…             ┆                 ┆                ┆ 3ccc…          ┆              ┆       │\n",
              "│ 3   ┆ C#CC[C@@H](CC(= ┆ C#CCOc1ccc(CN)c ┆ Br.NCc1cccc(Br ┆ C#CCOc1ccc(CNc ┆ BRD4         ┆ 0     │\n",
              "│     ┆ O)O)NC(=O)OCC1c ┆ c1.Cl           ┆ )n1            ┆ 2nc(NCc3cccc(B ┆              ┆       │\n",
              "│     ┆ 2c…             ┆                 ┆                ┆ r)n3…          ┆              ┆       │\n",
              "│ 4   ┆ C#CC[C@@H](CC(= ┆ C#CCOc1ccc(CN)c ┆ Br.NCc1cccc(Br ┆ C#CCOc1ccc(CNc ┆ HSA          ┆ 0     │\n",
              "│     ┆ O)O)NC(=O)OCC1c ┆ c1.Cl           ┆ )n1            ┆ 2nc(NCc3cccc(B ┆              ┆       │\n",
              "│     ┆ 2c…             ┆                 ┆                ┆ r)n3…          ┆              ┆       │\n",
              "└─────┴─────────────────┴─────────────────┴────────────────┴────────────────┴──────────────┴───────┘"
            ],
            "text/html": [
              "<div><style>\n",
              ".dataframe > thead > tr,\n",
              ".dataframe > tbody > tr {\n",
              "  text-align: right;\n",
              "  white-space: pre-wrap;\n",
              "}\n",
              "</style>\n",
              "<small>shape: (5, 7)</small><table border=\"1\" class=\"dataframe\"><thead><tr><th>id</th><th>buildingblock1_smiles</th><th>buildingblock2_smiles</th><th>buildingblock3_smiles</th><th>molecule_smiles</th><th>protein_name</th><th>binds</th></tr><tr><td>i64</td><td>str</td><td>str</td><td>str</td><td>str</td><td>str</td><td>i64</td></tr></thead><tbody><tr><td>0</td><td>&quot;C#CC[C@@H](CC(…</td><td>&quot;C#CCOc1ccc(CN)…</td><td>&quot;Br.Br.NCC1CCCN…</td><td>&quot;C#CCOc1ccc(CNc…</td><td>&quot;BRD4&quot;</td><td>0</td></tr><tr><td>1</td><td>&quot;C#CC[C@@H](CC(…</td><td>&quot;C#CCOc1ccc(CN)…</td><td>&quot;Br.Br.NCC1CCCN…</td><td>&quot;C#CCOc1ccc(CNc…</td><td>&quot;HSA&quot;</td><td>0</td></tr><tr><td>2</td><td>&quot;C#CC[C@@H](CC(…</td><td>&quot;C#CCOc1ccc(CN)…</td><td>&quot;Br.Br.NCC1CCCN…</td><td>&quot;C#CCOc1ccc(CNc…</td><td>&quot;sEH&quot;</td><td>0</td></tr><tr><td>3</td><td>&quot;C#CC[C@@H](CC(…</td><td>&quot;C#CCOc1ccc(CN)…</td><td>&quot;Br.NCc1cccc(Br…</td><td>&quot;C#CCOc1ccc(CNc…</td><td>&quot;BRD4&quot;</td><td>0</td></tr><tr><td>4</td><td>&quot;C#CC[C@@H](CC(…</td><td>&quot;C#CCOc1ccc(CN)…</td><td>&quot;Br.NCc1cccc(Br…</td><td>&quot;C#CCOc1ccc(CNc…</td><td>&quot;HSA&quot;</td><td>0</td></tr></tbody></table></div>"
            ]
          },
          "metadata": {},
          "execution_count": 4
        }
      ],
      "id": "-hAftbavmZqp"
    },
    {
      "cell_type": "code",
      "source": [
        "train_df['binds'].value_counts()"
      ],
      "metadata": {
        "execution": {
          "iopub.status.busy": "2024-05-26T20:25:50.069292Z",
          "iopub.execute_input": "2024-05-26T20:25:50.069815Z",
          "iopub.status.idle": "2024-05-26T20:25:50.081678Z",
          "shell.execute_reply.started": "2024-05-26T20:25:50.069789Z",
          "shell.execute_reply": "2024-05-26T20:25:50.080875Z"
        },
        "trusted": true,
        "colab": {
          "base_uri": "https://localhost:8080/",
          "height": 159
        },
        "id": "PL-aWTMTmZqp",
        "outputId": "bcb66dd2-5ebb-4c0a-833b-997ab5975ac4"
      },
      "execution_count": null,
      "outputs": [
        {
          "output_type": "execute_result",
          "data": {
            "text/plain": [
              "shape: (2, 2)\n",
              "┌───────┬───────┐\n",
              "│ binds ┆ count │\n",
              "│ ---   ┆ ---   │\n",
              "│ i64   ┆ u32   │\n",
              "╞═══════╪═══════╡\n",
              "│ 1     ┆ 235   │\n",
              "│ 0     ┆ 99764 │\n",
              "└───────┴───────┘"
            ],
            "text/html": [
              "<div><style>\n",
              ".dataframe > thead > tr,\n",
              ".dataframe > tbody > tr {\n",
              "  text-align: right;\n",
              "  white-space: pre-wrap;\n",
              "}\n",
              "</style>\n",
              "<small>shape: (2, 2)</small><table border=\"1\" class=\"dataframe\"><thead><tr><th>binds</th><th>count</th></tr><tr><td>i64</td><td>u32</td></tr></thead><tbody><tr><td>1</td><td>235</td></tr><tr><td>0</td><td>99764</td></tr></tbody></table></div>"
            ]
          },
          "metadata": {},
          "execution_count": 5
        }
      ],
      "id": "PL-aWTMTmZqp"
    },
    {
      "cell_type": "markdown",
      "source": [
        "## Séparation en fonction de la protéine"
      ],
      "metadata": {
        "id": "lOkD4Sz9mZqr"
      },
      "id": "lOkD4Sz9mZqr"
    },
    {
      "cell_type": "markdown",
      "source": [
        "Finalement je ne sais pas vraiment si c'est bien de séparer les protéines car qu'est-ce qui nous dit qu'il n'y a pas d'influence ? Par exemple que si la molécule fusionne avec HSA, il y a de forte chance qu'elle fusionne avec sEH aussi ? On n'en sait rien donc bon jsp, je sépare quand même ici au cas où"
      ],
      "metadata": {
        "id": "Cv18DRjimZqt"
      },
      "id": "Cv18DRjimZqt"
    },
    {
      "cell_type": "code",
      "source": [
        "train_df['protein_name'].value_counts()"
      ],
      "metadata": {
        "execution": {
          "iopub.status.busy": "2024-05-26T20:25:50.083541Z",
          "iopub.execute_input": "2024-05-26T20:25:50.084089Z",
          "iopub.status.idle": "2024-05-26T20:25:50.098189Z",
          "shell.execute_reply.started": "2024-05-26T20:25:50.084056Z",
          "shell.execute_reply": "2024-05-26T20:25:50.097300Z"
        },
        "trusted": true,
        "colab": {
          "base_uri": "https://localhost:8080/",
          "height": 190
        },
        "id": "UAY8PBl3mZqu",
        "outputId": "3d0e542e-4085-43e1-abf6-7f3834b1494c"
      },
      "execution_count": null,
      "outputs": [
        {
          "output_type": "execute_result",
          "data": {
            "text/plain": [
              "shape: (3, 2)\n",
              "┌──────────────┬───────┐\n",
              "│ protein_name ┆ count │\n",
              "│ ---          ┆ ---   │\n",
              "│ str          ┆ u32   │\n",
              "╞══════════════╪═══════╡\n",
              "│ HSA          ┆ 33333 │\n",
              "│ BRD4         ┆ 33333 │\n",
              "│ sEH          ┆ 33333 │\n",
              "└──────────────┴───────┘"
            ],
            "text/html": [
              "<div><style>\n",
              ".dataframe > thead > tr,\n",
              ".dataframe > tbody > tr {\n",
              "  text-align: right;\n",
              "  white-space: pre-wrap;\n",
              "}\n",
              "</style>\n",
              "<small>shape: (3, 2)</small><table border=\"1\" class=\"dataframe\"><thead><tr><th>protein_name</th><th>count</th></tr><tr><td>str</td><td>u32</td></tr></thead><tbody><tr><td>&quot;HSA&quot;</td><td>33333</td></tr><tr><td>&quot;BRD4&quot;</td><td>33333</td></tr><tr><td>&quot;sEH&quot;</td><td>33333</td></tr></tbody></table></div>"
            ]
          },
          "metadata": {},
          "execution_count": 6
        }
      ],
      "id": "UAY8PBl3mZqu"
    },
    {
      "cell_type": "code",
      "source": [
        "train_brd = train_df.filter(train_df['protein_name'] == \"BRD4\")\n",
        "train_hsa = train_df.filter(train_df['protein_name'] == \"HSA\")\n",
        "train_seh = train_df.filter(train_df['protein_name'] == \"sEH\")\n",
        "\n",
        "print(train_brd.head())\n",
        "print(train_hsa.head())\n",
        "print(train_seh.head())"
      ],
      "metadata": {
        "execution": {
          "iopub.status.busy": "2024-05-26T20:25:50.099535Z",
          "iopub.execute_input": "2024-05-26T20:25:50.100116Z"
        },
        "trusted": true,
        "colab": {
          "base_uri": "https://localhost:8080/"
        },
        "id": "fgE4lGNFmZqw",
        "outputId": "537b7dce-489a-45b5-f572-d1e338893e02"
      },
      "execution_count": null,
      "outputs": [
        {
          "output_type": "stream",
          "name": "stdout",
          "text": [
            "shape: (5, 7)\n",
            "┌─────┬─────────────────┬─────────────────┬────────────────┬────────────────┬──────────────┬───────┐\n",
            "│ id  ┆ buildingblock1_ ┆ buildingblock2_ ┆ buildingblock3 ┆ molecule_smile ┆ protein_name ┆ binds │\n",
            "│ --- ┆ smiles          ┆ smiles          ┆ _smiles        ┆ s              ┆ ---          ┆ ---   │\n",
            "│ i64 ┆ ---             ┆ ---             ┆ ---            ┆ ---            ┆ str          ┆ i64   │\n",
            "│     ┆ str             ┆ str             ┆ str            ┆ str            ┆              ┆       │\n",
            "╞═════╪═════════════════╪═════════════════╪════════════════╪════════════════╪══════════════╪═══════╡\n",
            "│ 0   ┆ C#CC[C@@H](CC(= ┆ C#CCOc1ccc(CN)c ┆ Br.Br.NCC1CCCN ┆ C#CCOc1ccc(CNc ┆ BRD4         ┆ 0     │\n",
            "│     ┆ O)O)NC(=O)OCC1c ┆ c1.Cl           ┆ 1c1cccnn1      ┆ 2nc(NCC3CCCN3c ┆              ┆       │\n",
            "│     ┆ 2c…             ┆                 ┆                ┆ 3ccc…          ┆              ┆       │\n",
            "│ 3   ┆ C#CC[C@@H](CC(= ┆ C#CCOc1ccc(CN)c ┆ Br.NCc1cccc(Br ┆ C#CCOc1ccc(CNc ┆ BRD4         ┆ 0     │\n",
            "│     ┆ O)O)NC(=O)OCC1c ┆ c1.Cl           ┆ )n1            ┆ 2nc(NCc3cccc(B ┆              ┆       │\n",
            "│     ┆ 2c…             ┆                 ┆                ┆ r)n3…          ┆              ┆       │\n",
            "│ 6   ┆ C#CC[C@@H](CC(= ┆ C#CCOc1ccc(CN)c ┆ C#CCOc1ccc(CN) ┆ C#CCOc1ccc(CNc ┆ BRD4         ┆ 0     │\n",
            "│     ┆ O)O)NC(=O)OCC1c ┆ c1.Cl           ┆ cc1.Cl         ┆ 2nc(NCc3ccc(OC ┆              ┆       │\n",
            "│     ┆ 2c…             ┆                 ┆                ┆ C#C)…          ┆              ┆       │\n",
            "│ 9   ┆ C#CC[C@@H](CC(= ┆ C#CCOc1ccc(CN)c ┆ C=C(C)C(=O)NCC ┆ C#CCOc1ccc(CNc ┆ BRD4         ┆ 0     │\n",
            "│     ┆ O)O)NC(=O)OCC1c ┆ c1.Cl           ┆ N.Cl           ┆ 2nc(NCCNC(=O)C ┆              ┆       │\n",
            "│     ┆ 2c…             ┆                 ┆                ┆ (=C)…          ┆              ┆       │\n",
            "│ 12  ┆ C#CC[C@@H](CC(= ┆ C#CCOc1ccc(CN)c ┆ C=CCNC(=O)CN.C ┆ C#CCOc1ccc(CNc ┆ BRD4         ┆ 0     │\n",
            "│     ┆ O)O)NC(=O)OCC1c ┆ c1.Cl           ┆ l              ┆ 2nc(NCC(=O)NCC ┆              ┆       │\n",
            "│     ┆ 2c…             ┆                 ┆                ┆ =C)n…          ┆              ┆       │\n",
            "└─────┴─────────────────┴─────────────────┴────────────────┴────────────────┴──────────────┴───────┘\n",
            "shape: (5, 7)\n",
            "┌─────┬─────────────────┬─────────────────┬────────────────┬────────────────┬──────────────┬───────┐\n",
            "│ id  ┆ buildingblock1_ ┆ buildingblock2_ ┆ buildingblock3 ┆ molecule_smile ┆ protein_name ┆ binds │\n",
            "│ --- ┆ smiles          ┆ smiles          ┆ _smiles        ┆ s              ┆ ---          ┆ ---   │\n",
            "│ i64 ┆ ---             ┆ ---             ┆ ---            ┆ ---            ┆ str          ┆ i64   │\n",
            "│     ┆ str             ┆ str             ┆ str            ┆ str            ┆              ┆       │\n",
            "╞═════╪═════════════════╪═════════════════╪════════════════╪════════════════╪══════════════╪═══════╡\n",
            "│ 1   ┆ C#CC[C@@H](CC(= ┆ C#CCOc1ccc(CN)c ┆ Br.Br.NCC1CCCN ┆ C#CCOc1ccc(CNc ┆ HSA          ┆ 0     │\n",
            "│     ┆ O)O)NC(=O)OCC1c ┆ c1.Cl           ┆ 1c1cccnn1      ┆ 2nc(NCC3CCCN3c ┆              ┆       │\n",
            "│     ┆ 2c…             ┆                 ┆                ┆ 3ccc…          ┆              ┆       │\n",
            "│ 4   ┆ C#CC[C@@H](CC(= ┆ C#CCOc1ccc(CN)c ┆ Br.NCc1cccc(Br ┆ C#CCOc1ccc(CNc ┆ HSA          ┆ 0     │\n",
            "│     ┆ O)O)NC(=O)OCC1c ┆ c1.Cl           ┆ )n1            ┆ 2nc(NCc3cccc(B ┆              ┆       │\n",
            "│     ┆ 2c…             ┆                 ┆                ┆ r)n3…          ┆              ┆       │\n",
            "│ 7   ┆ C#CC[C@@H](CC(= ┆ C#CCOc1ccc(CN)c ┆ C#CCOc1ccc(CN) ┆ C#CCOc1ccc(CNc ┆ HSA          ┆ 0     │\n",
            "│     ┆ O)O)NC(=O)OCC1c ┆ c1.Cl           ┆ cc1.Cl         ┆ 2nc(NCc3ccc(OC ┆              ┆       │\n",
            "│     ┆ 2c…             ┆                 ┆                ┆ C#C)…          ┆              ┆       │\n",
            "│ 10  ┆ C#CC[C@@H](CC(= ┆ C#CCOc1ccc(CN)c ┆ C=C(C)C(=O)NCC ┆ C#CCOc1ccc(CNc ┆ HSA          ┆ 0     │\n",
            "│     ┆ O)O)NC(=O)OCC1c ┆ c1.Cl           ┆ N.Cl           ┆ 2nc(NCCNC(=O)C ┆              ┆       │\n",
            "│     ┆ 2c…             ┆                 ┆                ┆ (=C)…          ┆              ┆       │\n",
            "│ 13  ┆ C#CC[C@@H](CC(= ┆ C#CCOc1ccc(CN)c ┆ C=CCNC(=O)CN.C ┆ C#CCOc1ccc(CNc ┆ HSA          ┆ 0     │\n",
            "│     ┆ O)O)NC(=O)OCC1c ┆ c1.Cl           ┆ l              ┆ 2nc(NCC(=O)NCC ┆              ┆       │\n",
            "│     ┆ 2c…             ┆                 ┆                ┆ =C)n…          ┆              ┆       │\n",
            "└─────┴─────────────────┴─────────────────┴────────────────┴────────────────┴──────────────┴───────┘\n",
            "shape: (5, 7)\n",
            "┌─────┬─────────────────┬─────────────────┬────────────────┬────────────────┬──────────────┬───────┐\n",
            "│ id  ┆ buildingblock1_ ┆ buildingblock2_ ┆ buildingblock3 ┆ molecule_smile ┆ protein_name ┆ binds │\n",
            "│ --- ┆ smiles          ┆ smiles          ┆ _smiles        ┆ s              ┆ ---          ┆ ---   │\n",
            "│ i64 ┆ ---             ┆ ---             ┆ ---            ┆ ---            ┆ str          ┆ i64   │\n",
            "│     ┆ str             ┆ str             ┆ str            ┆ str            ┆              ┆       │\n",
            "╞═════╪═════════════════╪═════════════════╪════════════════╪════════════════╪══════════════╪═══════╡\n",
            "│ 2   ┆ C#CC[C@@H](CC(= ┆ C#CCOc1ccc(CN)c ┆ Br.Br.NCC1CCCN ┆ C#CCOc1ccc(CNc ┆ sEH          ┆ 0     │\n",
            "│     ┆ O)O)NC(=O)OCC1c ┆ c1.Cl           ┆ 1c1cccnn1      ┆ 2nc(NCC3CCCN3c ┆              ┆       │\n",
            "│     ┆ 2c…             ┆                 ┆                ┆ 3ccc…          ┆              ┆       │\n",
            "│ 5   ┆ C#CC[C@@H](CC(= ┆ C#CCOc1ccc(CN)c ┆ Br.NCc1cccc(Br ┆ C#CCOc1ccc(CNc ┆ sEH          ┆ 0     │\n",
            "│     ┆ O)O)NC(=O)OCC1c ┆ c1.Cl           ┆ )n1            ┆ 2nc(NCc3cccc(B ┆              ┆       │\n",
            "│     ┆ 2c…             ┆                 ┆                ┆ r)n3…          ┆              ┆       │\n",
            "│ 8   ┆ C#CC[C@@H](CC(= ┆ C#CCOc1ccc(CN)c ┆ C#CCOc1ccc(CN) ┆ C#CCOc1ccc(CNc ┆ sEH          ┆ 0     │\n",
            "│     ┆ O)O)NC(=O)OCC1c ┆ c1.Cl           ┆ cc1.Cl         ┆ 2nc(NCc3ccc(OC ┆              ┆       │\n",
            "│     ┆ 2c…             ┆                 ┆                ┆ C#C)…          ┆              ┆       │\n",
            "│ 11  ┆ C#CC[C@@H](CC(= ┆ C#CCOc1ccc(CN)c ┆ C=C(C)C(=O)NCC ┆ C#CCOc1ccc(CNc ┆ sEH          ┆ 0     │\n",
            "│     ┆ O)O)NC(=O)OCC1c ┆ c1.Cl           ┆ N.Cl           ┆ 2nc(NCCNC(=O)C ┆              ┆       │\n",
            "│     ┆ 2c…             ┆                 ┆                ┆ (=C)…          ┆              ┆       │\n",
            "│ 14  ┆ C#CC[C@@H](CC(= ┆ C#CCOc1ccc(CN)c ┆ C=CCNC(=O)CN.C ┆ C#CCOc1ccc(CNc ┆ sEH          ┆ 0     │\n",
            "│     ┆ O)O)NC(=O)OCC1c ┆ c1.Cl           ┆ l              ┆ 2nc(NCC(=O)NCC ┆              ┆       │\n",
            "│     ┆ 2c…             ┆                 ┆                ┆ =C)n…          ┆              ┆       │\n",
            "└─────┴─────────────────┴─────────────────┴────────────────┴────────────────┴──────────────┴───────┘\n"
          ]
        }
      ],
      "id": "fgE4lGNFmZqw"
    },
    {
      "cell_type": "code",
      "source": [
        "train_brd['binds'].value_counts()"
      ],
      "metadata": {
        "trusted": true,
        "colab": {
          "base_uri": "https://localhost:8080/",
          "height": 159
        },
        "id": "FAiX-r-EmZqx",
        "outputId": "f16c1692-67c1-4b7a-8edd-5821f1cc428c"
      },
      "execution_count": null,
      "outputs": [
        {
          "output_type": "execute_result",
          "data": {
            "text/plain": [
              "shape: (2, 2)\n",
              "┌───────┬───────┐\n",
              "│ binds ┆ count │\n",
              "│ ---   ┆ ---   │\n",
              "│ i64   ┆ u32   │\n",
              "╞═══════╪═══════╡\n",
              "│ 1     ┆ 82    │\n",
              "│ 0     ┆ 33251 │\n",
              "└───────┴───────┘"
            ],
            "text/html": [
              "<div><style>\n",
              ".dataframe > thead > tr,\n",
              ".dataframe > tbody > tr {\n",
              "  text-align: right;\n",
              "  white-space: pre-wrap;\n",
              "}\n",
              "</style>\n",
              "<small>shape: (2, 2)</small><table border=\"1\" class=\"dataframe\"><thead><tr><th>binds</th><th>count</th></tr><tr><td>i64</td><td>u32</td></tr></thead><tbody><tr><td>1</td><td>82</td></tr><tr><td>0</td><td>33251</td></tr></tbody></table></div>"
            ]
          },
          "metadata": {},
          "execution_count": 8
        }
      ],
      "id": "FAiX-r-EmZqx"
    },
    {
      "cell_type": "code",
      "source": [
        "print(\"Number of lines \",82 + 33251)\n",
        "print(\"Proportion of negative class\",33251 / (82 + 33251))\n",
        "print(\"Proportion of positive class\",82 / (82 + 33251))"
      ],
      "metadata": {
        "colab": {
          "base_uri": "https://localhost:8080/"
        },
        "id": "AoSfG0mDqm5L",
        "outputId": "eea044ea-ca16-4683-cfac-2bcb3566ea54"
      },
      "id": "AoSfG0mDqm5L",
      "execution_count": null,
      "outputs": [
        {
          "output_type": "stream",
          "name": "stdout",
          "text": [
            "Number of lines  33333\n",
            "Proportion of negative class 0.997539975399754\n",
            "Proportion of positive class 0.0024600246002460025\n"
          ]
        }
      ]
    },
    {
      "cell_type": "code",
      "source": [
        "# Proportions of each class\n",
        "proportion_negative = 0.9975\n",
        "proportion_positive = 0.0025\n",
        "\n",
        "# Calculate class weights\n",
        "weight_negative = 1.0 / proportion_negative\n",
        "weight_positive = 1.0 / proportion_positive\n",
        "\n",
        "print(\"Weight for negative class:\", weight_negative)\n",
        "print(\"Weight for positive class:\", weight_positive)\n",
        "\n",
        "\n",
        "weight_negative = 1.0 / proportion_negative\n",
        "weight_positive = 1.0 / proportion_positive"
      ],
      "metadata": {
        "colab": {
          "base_uri": "https://localhost:8080/"
        },
        "id": "Dd3FAApDq8jK",
        "outputId": "5b1f8d40-82b9-4f03-e6c1-59ed047217fb"
      },
      "id": "Dd3FAApDq8jK",
      "execution_count": null,
      "outputs": [
        {
          "output_type": "stream",
          "name": "stdout",
          "text": [
            "Weight for negative class: 1.0025062656641603\n",
            "Weight for positive class: 400.0\n"
          ]
        }
      ]
    },
    {
      "cell_type": "markdown",
      "source": [
        "Count the number of symbols"
      ],
      "metadata": {
        "id": "7VEDPftYmZqz"
      },
      "id": "7VEDPftYmZqz"
    },
    {
      "cell_type": "code",
      "source": [
        "# from collections import Counter\n",
        "\n",
        "# # Initialize a Counter to keep track of symbol counts\n",
        "# symbol_counter = Counter()\n",
        "\n",
        "# # Iterate over each SMILES string and update the counter\n",
        "# for smiles in train['molecule_smiles'].sample(100):\n",
        "#     symbol_counter.update(smiles)\n",
        "\n",
        "# # Print the symbol counts\n",
        "# for symbol, count in symbol_counter.items():\n",
        "#     print(f'{symbol}: {count}')"
      ],
      "metadata": {
        "trusted": true,
        "id": "8gaf1UtxmZq0"
      },
      "execution_count": null,
      "outputs": [],
      "id": "8gaf1UtxmZq0"
    },
    {
      "cell_type": "code",
      "source": [
        "smiles_data = list(train_brd[\"molecule_smiles\"])\n",
        "labels = list(train_brd[\"binds\"])"
      ],
      "metadata": {
        "trusted": true,
        "id": "F9PeETaAmZq1"
      },
      "execution_count": null,
      "outputs": [],
      "id": "F9PeETaAmZq1"
    },
    {
      "cell_type": "code",
      "source": [
        "pip install periodictable"
      ],
      "metadata": {
        "trusted": true,
        "colab": {
          "base_uri": "https://localhost:8080/"
        },
        "id": "5WaSfB6rmZq2",
        "outputId": "2a6f412a-b3e9-4310-ae3a-94843437522e"
      },
      "execution_count": null,
      "outputs": [
        {
          "output_type": "stream",
          "name": "stdout",
          "text": [
            "Collecting periodictable\n",
            "  Downloading periodictable-1.7.0.tar.gz (1.0 MB)\n",
            "\u001b[2K     \u001b[90m━━━━━━━━━━━━━━━━━━━━━━━━━━━━━━━━━━━━━━━━\u001b[0m \u001b[32m1.0/1.0 MB\u001b[0m \u001b[31m5.7 MB/s\u001b[0m eta \u001b[36m0:00:00\u001b[0m\n",
            "\u001b[?25h  Preparing metadata (setup.py) ... \u001b[?25l\u001b[?25hdone\n",
            "Requirement already satisfied: pyparsing in /usr/local/lib/python3.10/dist-packages (from periodictable) (3.1.2)\n",
            "Requirement already satisfied: numpy in /usr/local/lib/python3.10/dist-packages (from periodictable) (1.25.2)\n",
            "Building wheels for collected packages: periodictable\n",
            "  Building wheel for periodictable (setup.py) ... \u001b[?25l\u001b[?25hdone\n",
            "  Created wheel for periodictable: filename=periodictable-1.7.0-py3-none-any.whl size=752513 sha256=d05431902350d9e20d0541b057627fe1935f0b83472b33f146249a1c4d6a9eb5\n",
            "  Stored in directory: /root/.cache/pip/wheels/7e/19/a2/fef5d0ca2b1ad2b199e863a6e796ad9d5efc86563d80c91a0c\n",
            "Successfully built periodictable\n",
            "Installing collected packages: periodictable\n",
            "Successfully installed periodictable-1.7.0\n"
          ]
        }
      ],
      "id": "5WaSfB6rmZq2"
    },
    {
      "cell_type": "code",
      "source": [
        "import periodictable\n",
        "\n",
        "# Initialize a set to store unique characters\n",
        "unique_chars = set()\n",
        "\n",
        "# Iterate through the dataset and collect SMILES strings\n",
        "for i in range(len(smiles_data)):\n",
        "    smiles = smiles_data[i]\n",
        "    j = 0\n",
        "    while j < len(smiles):\n",
        "        # Check for two-letter atom symbols\n",
        "        if j < len(smiles) - 1 and smiles[j].isupper() and smiles[j + 1].islower():\n",
        "            # Combine uppercase and lowercase letters\n",
        "            symbol = smiles[j:j + 2]\n",
        "            try:\n",
        "                element = periodictable.elements.symbol(symbol)\n",
        "                unique_chars.add(symbol)\n",
        "            except ValueError:\n",
        "                pass  # Ignore if the pair is not a valid atomic symbol\n",
        "\n",
        "            j += 2  # Move to the next character pair\n",
        "        else:\n",
        "            unique_chars.add(smiles[j])\n",
        "            j += 1\n",
        "\n",
        "# Print the unique characters\n",
        "print(f\"Unique characters in the dataset: {sorted(unique_chars)}\")"
      ],
      "metadata": {
        "trusted": true,
        "colab": {
          "base_uri": "https://localhost:8080/"
        },
        "id": "00TM_XqsmZq3",
        "outputId": "06cc6ad5-7401-43db-a305-ae61db04c320"
      },
      "execution_count": null,
      "outputs": [
        {
          "output_type": "stream",
          "name": "stdout",
          "text": [
            "Unique characters in the dataset: ['#', '(', ')', '+', '-', '/', '1', '2', '3', '4', '5', '6', '7', '=', '@', 'B', 'Br', 'C', 'Cl', 'Cn', 'Dy', 'F', 'H', 'N', 'O', 'S', 'Sc', 'Si', '[', ']', 'c', 'n', 'o', 's']\n"
          ]
        }
      ],
      "id": "00TM_XqsmZq3"
    },
    {
      "cell_type": "markdown",
      "source": [
        "Fonction pour convertir les chaînes SMILES en matrices de caractéristiques"
      ],
      "metadata": {
        "id": "_GITNTUPmZq4"
      },
      "id": "_GITNTUPmZq4"
    },
    {
      "cell_type": "code",
      "source": [
        "len(unique_chars)"
      ],
      "metadata": {
        "trusted": true,
        "colab": {
          "base_uri": "https://localhost:8080/"
        },
        "id": "N2gPxc_umZq4",
        "outputId": "89836804-9de0-4a45-cd08-0cdd99ac8b0d"
      },
      "execution_count": null,
      "outputs": [
        {
          "output_type": "execute_result",
          "data": {
            "text/plain": [
              "34"
            ]
          },
          "metadata": {},
          "execution_count": 13
        }
      ],
      "id": "N2gPxc_umZq4"
    },
    {
      "cell_type": "code",
      "source": [
        "def smiles_to_feature_matrix(smiles, max_length=400):\n",
        "    # Dictionnaire de correspondance des caractères SMILES aux vecteurs de caractéristiques\n",
        "    smiles_dict = {char: i for i, char in enumerate(unique_chars)} #enumerate(\"CNOFSPBrc=()[]#1234567890\")}\n",
        "    feature_matrix = np.zeros((len(smiles), max_length, 42), dtype=np.float32)\n",
        "\n",
        "    for i, smi in enumerate(smiles):\n",
        "        for j, char in enumerate(smi):\n",
        "            if char in smiles_dict:\n",
        "                feature_matrix[i, j, smiles_dict[char]] = 1.0\n",
        "        feature_matrix[i, len(smi):, -1] = 1.0  # Padding\n",
        "\n",
        "    return feature_matrix"
      ],
      "metadata": {
        "trusted": true,
        "id": "JimlC3UdmZq4"
      },
      "execution_count": null,
      "outputs": [],
      "id": "JimlC3UdmZq4"
    },
    {
      "cell_type": "markdown",
      "source": [
        "Construct Model"
      ],
      "metadata": {
        "id": "1Vrw62Q4mZq5"
      },
      "id": "1Vrw62Q4mZq5"
    },
    {
      "cell_type": "markdown",
      "source": [
        "The input to this CNN model should be a SMILES feature matrix with shape (batch_size, 42, max_smiles_length), where:\n",
        "- batch_size is the number of SMILES strings in the batch\n",
        "- 42 is the number of features for each symbol in the SMILES string (21 for atoms and 21 for SMILES symbols)\n",
        "- max_smiles_length is the maximum length of SMILES strings in your dataset (padded with zeros if necessary)\n",
        "You can preprocess the SMILES strings to create the feature matrix using the approach described in the paper. The output of the CNN will be a tensor of shape (batch_size, 1) for binary classification tasks, or (batch_size, num_classes) for multi-class classification tasks"
      ],
      "metadata": {
        "id": "2xlIFz5LmZq5"
      },
      "id": "2xlIFz5LmZq5"
    },
    {
      "cell_type": "markdown",
      "source": [
        "Construct the matrix"
      ],
      "metadata": {
        "id": "8iX8z6UYmZq5"
      },
      "id": "8iX8z6UYmZq5"
    },
    {
      "cell_type": "code",
      "source": [
        "# Assuming you have your SMILES data converted to feature matrix X and labels y\n",
        "X = smiles_to_feature_matrix(smiles_data)"
      ],
      "metadata": {
        "trusted": true,
        "id": "dkSjoeGymZq5"
      },
      "execution_count": null,
      "outputs": [],
      "id": "dkSjoeGymZq5"
    },
    {
      "cell_type": "code",
      "source": [
        "X = X[:, :, :]  # Adding a channel dimension\n",
        "y = np.array(labels, dtype=np.int32)"
      ],
      "metadata": {
        "trusted": true,
        "id": "BjDRZsxPmZq5"
      },
      "execution_count": null,
      "outputs": [],
      "id": "BjDRZsxPmZq5"
    },
    {
      "cell_type": "markdown",
      "source": [
        "Training"
      ],
      "metadata": {
        "id": "TWFbG_0KmZq6"
      },
      "id": "TWFbG_0KmZq6"
    },
    {
      "cell_type": "code",
      "source": [
        "X.shape"
      ],
      "metadata": {
        "trusted": true,
        "colab": {
          "base_uri": "https://localhost:8080/"
        },
        "id": "iP69bySlmZq6",
        "outputId": "7e50f94f-b543-4535-b024-246b11d0ebad"
      },
      "execution_count": null,
      "outputs": [
        {
          "output_type": "execute_result",
          "data": {
            "text/plain": [
              "(33333, 400, 42)"
            ]
          },
          "metadata": {},
          "execution_count": 17
        }
      ],
      "id": "iP69bySlmZq6"
    },
    {
      "cell_type": "markdown",
      "source": [
        "PyTorch"
      ],
      "metadata": {
        "id": "7DCqmAm8mZq6"
      },
      "id": "7DCqmAm8mZq6"
    },
    {
      "cell_type": "code",
      "source": [
        "!pip install torch torchvision -U"
      ],
      "metadata": {
        "colab": {
          "base_uri": "https://localhost:8080/"
        },
        "id": "8fMfys2jsD4J",
        "outputId": "99f07e6e-9b36-49d6-fe48-5bc09e844595"
      },
      "id": "8fMfys2jsD4J",
      "execution_count": null,
      "outputs": [
        {
          "output_type": "stream",
          "name": "stdout",
          "text": [
            "Requirement already satisfied: torch in /usr/local/lib/python3.10/dist-packages (2.3.0+cu121)\n",
            "Requirement already satisfied: torchvision in /usr/local/lib/python3.10/dist-packages (0.18.0+cu121)\n",
            "Requirement already satisfied: filelock in /usr/local/lib/python3.10/dist-packages (from torch) (3.14.0)\n",
            "Requirement already satisfied: typing-extensions>=4.8.0 in /usr/local/lib/python3.10/dist-packages (from torch) (4.11.0)\n",
            "Requirement already satisfied: sympy in /usr/local/lib/python3.10/dist-packages (from torch) (1.12)\n",
            "Requirement already satisfied: networkx in /usr/local/lib/python3.10/dist-packages (from torch) (3.3)\n",
            "Requirement already satisfied: jinja2 in /usr/local/lib/python3.10/dist-packages (from torch) (3.1.4)\n",
            "Requirement already satisfied: fsspec in /usr/local/lib/python3.10/dist-packages (from torch) (2023.6.0)\n",
            "Collecting nvidia-cuda-nvrtc-cu12==12.1.105 (from torch)\n",
            "  Using cached nvidia_cuda_nvrtc_cu12-12.1.105-py3-none-manylinux1_x86_64.whl (23.7 MB)\n",
            "Collecting nvidia-cuda-runtime-cu12==12.1.105 (from torch)\n",
            "  Using cached nvidia_cuda_runtime_cu12-12.1.105-py3-none-manylinux1_x86_64.whl (823 kB)\n",
            "Collecting nvidia-cuda-cupti-cu12==12.1.105 (from torch)\n",
            "  Using cached nvidia_cuda_cupti_cu12-12.1.105-py3-none-manylinux1_x86_64.whl (14.1 MB)\n",
            "Collecting nvidia-cudnn-cu12==8.9.2.26 (from torch)\n",
            "  Using cached nvidia_cudnn_cu12-8.9.2.26-py3-none-manylinux1_x86_64.whl (731.7 MB)\n",
            "Collecting nvidia-cublas-cu12==12.1.3.1 (from torch)\n",
            "  Using cached nvidia_cublas_cu12-12.1.3.1-py3-none-manylinux1_x86_64.whl (410.6 MB)\n",
            "Collecting nvidia-cufft-cu12==11.0.2.54 (from torch)\n",
            "  Using cached nvidia_cufft_cu12-11.0.2.54-py3-none-manylinux1_x86_64.whl (121.6 MB)\n",
            "Collecting nvidia-curand-cu12==10.3.2.106 (from torch)\n",
            "  Using cached nvidia_curand_cu12-10.3.2.106-py3-none-manylinux1_x86_64.whl (56.5 MB)\n",
            "Collecting nvidia-cusolver-cu12==11.4.5.107 (from torch)\n",
            "  Using cached nvidia_cusolver_cu12-11.4.5.107-py3-none-manylinux1_x86_64.whl (124.2 MB)\n",
            "Collecting nvidia-cusparse-cu12==12.1.0.106 (from torch)\n",
            "  Using cached nvidia_cusparse_cu12-12.1.0.106-py3-none-manylinux1_x86_64.whl (196.0 MB)\n",
            "Collecting nvidia-nccl-cu12==2.20.5 (from torch)\n",
            "  Using cached nvidia_nccl_cu12-2.20.5-py3-none-manylinux2014_x86_64.whl (176.2 MB)\n",
            "Collecting nvidia-nvtx-cu12==12.1.105 (from torch)\n",
            "  Using cached nvidia_nvtx_cu12-12.1.105-py3-none-manylinux1_x86_64.whl (99 kB)\n",
            "Requirement already satisfied: triton==2.3.0 in /usr/local/lib/python3.10/dist-packages (from torch) (2.3.0)\n",
            "Collecting nvidia-nvjitlink-cu12 (from nvidia-cusolver-cu12==11.4.5.107->torch)\n",
            "  Downloading nvidia_nvjitlink_cu12-12.5.40-py3-none-manylinux2014_x86_64.whl (21.3 MB)\n",
            "\u001b[2K     \u001b[90m━━━━━━━━━━━━━━━━━━━━━━━━━━━━━━━━━━━━━━━━\u001b[0m \u001b[32m21.3/21.3 MB\u001b[0m \u001b[31m37.2 MB/s\u001b[0m eta \u001b[36m0:00:00\u001b[0m\n",
            "\u001b[?25hRequirement already satisfied: numpy in /usr/local/lib/python3.10/dist-packages (from torchvision) (1.25.2)\n",
            "Requirement already satisfied: pillow!=8.3.*,>=5.3.0 in /usr/local/lib/python3.10/dist-packages (from torchvision) (9.4.0)\n",
            "Requirement already satisfied: MarkupSafe>=2.0 in /usr/local/lib/python3.10/dist-packages (from jinja2->torch) (2.1.5)\n",
            "Requirement already satisfied: mpmath>=0.19 in /usr/local/lib/python3.10/dist-packages (from sympy->torch) (1.3.0)\n",
            "Installing collected packages: nvidia-nvtx-cu12, nvidia-nvjitlink-cu12, nvidia-nccl-cu12, nvidia-curand-cu12, nvidia-cufft-cu12, nvidia-cuda-runtime-cu12, nvidia-cuda-nvrtc-cu12, nvidia-cuda-cupti-cu12, nvidia-cublas-cu12, nvidia-cusparse-cu12, nvidia-cudnn-cu12, nvidia-cusolver-cu12\n",
            "Successfully installed nvidia-cublas-cu12-12.1.3.1 nvidia-cuda-cupti-cu12-12.1.105 nvidia-cuda-nvrtc-cu12-12.1.105 nvidia-cuda-runtime-cu12-12.1.105 nvidia-cudnn-cu12-8.9.2.26 nvidia-cufft-cu12-11.0.2.54 nvidia-curand-cu12-10.3.2.106 nvidia-cusolver-cu12-11.4.5.107 nvidia-cusparse-cu12-12.1.0.106 nvidia-nccl-cu12-2.20.5 nvidia-nvjitlink-cu12-12.5.40 nvidia-nvtx-cu12-12.1.105\n"
          ]
        }
      ]
    },
    {
      "cell_type": "code",
      "source": [
        "import torch\n",
        "from sklearn.model_selection import train_test_split\n",
        "from torch.utils.data import TensorDataset, DataLoader\n",
        "\n",
        "# Assuming X and y are your input data and labels\n",
        "X_train, X_test, y_train, y_test = train_test_split(X, y, test_size=0.2, random_state=42)\n",
        "X_train = torch.tensor(X_train)\n",
        "X_test = torch.tensor(X_test)\n",
        "y_train = torch.tensor(y_train)\n",
        "y_test = torch.tensor(y_test)\n",
        "\n",
        "train_dataset = TensorDataset(X_train, y_train)\n",
        "test_dataset = TensorDataset(X_test, y_test)\n",
        "\n",
        "train_loader = DataLoader(train_dataset, batch_size=32, shuffle=True)\n",
        "test_loader = DataLoader(test_dataset, batch_size=32, shuffle=False)"
      ],
      "metadata": {
        "trusted": true,
        "id": "flit6RnRmZq6"
      },
      "execution_count": null,
      "outputs": [],
      "id": "flit6RnRmZq6"
    },
    {
      "cell_type": "code",
      "source": [
        "import torch.nn as nn\n",
        "import torch.optim as optim\n",
        "import torch.nn as nn\n",
        "from tqdm import tqdm\n",
        "\n",
        "\n",
        "class SMILES_CNN(nn.Module):\n",
        "    def __init__(self):\n",
        "        super(SMILES_CNN, self).__init__()\n",
        "\n",
        "        # Define the convolutional layers\n",
        "        # self.conv1 = nn.Conv1d(in_channels=42, out_channels=64, kernel_size=5, padding=2)\n",
        "        # self.conv2 = nn.Conv1d(in_channels=64, out_channels=64, kernel_size=5, padding=2)\n",
        "        self.conv1 = nn.Conv1d(in_channels=400, out_channels=64, kernel_size=5, padding=2)\n",
        "        self.conv2 = nn.Conv1d(in_channels=64, out_channels=64, kernel_size=5, padding=2)\n",
        "\n",
        "        # Define the pooling layers\n",
        "        self.pool1 = nn.MaxPool1d(kernel_size=2)\n",
        "        self.pool2 = nn.MaxPool1d(kernel_size=2)\n",
        "\n",
        "        # Define the fully connected layers\n",
        "        self.fc1 = nn.Linear(640, 128)\n",
        "        self.fc2 = nn.Linear(128, 64)\n",
        "        self.fc3 = nn.Linear(64, 1)\n",
        "\n",
        "    def forward(self, x):\n",
        "        # Convolutional and pooling layers\n",
        "        x = self.pool1(nn.functional.relu(self.conv1(x)))\n",
        "        x = self.pool2(nn.functional.relu(self.conv2(x)))\n",
        "\n",
        "        # Flatten the output and pass through fully connected layers\n",
        "        x = x.view(x.size(0), -1)\n",
        "        x = nn.functional.relu(self.fc1(x))\n",
        "        x = nn.functional.relu(self.fc2(x))\n",
        "        x = torch.sigmoid(self.fc3(x))  # Apply sigmoid activation to the output\n",
        "        # x = self.fc3(x)\n",
        "\n",
        "        return x\n",
        "\n",
        "model = SMILES_CNN()\n",
        "criterion = nn.BCELoss()\n",
        "optimizer = optim.Adam(model.parameters())\n",
        "\n",
        "num_epochs = 10\n",
        "\n",
        "for epoch in range(num_epochs):\n",
        "    loop = tqdm(train_loader, leave=True)  # Move this line inside the outer loop\n",
        "    for smiles_features, labels in loop:  # Iterate over the tqdm progress bar\n",
        "        optimizer.zero_grad()\n",
        "        outputs = model(smiles_features)\n",
        "        labels = labels.unsqueeze(1).float()\n",
        "        loss = criterion(outputs, labels)\n",
        "        loss.backward()\n",
        "        optimizer.step()\n",
        "        loop.set_postfix(loss=loss.item())"
      ],
      "metadata": {
        "trusted": true,
        "colab": {
          "base_uri": "https://localhost:8080/"
        },
        "id": "tCJV8gJFmZq6",
        "outputId": "69872a3c-f84f-4205-f0d1-1122785bc41d"
      },
      "execution_count": null,
      "outputs": [
        {
          "output_type": "stream",
          "name": "stderr",
          "text": [
            "100%|██████████| 834/834 [00:36<00:00, 22.62it/s, loss=0.000996]\n",
            "100%|██████████| 834/834 [00:34<00:00, 24.49it/s, loss=0.000114]\n",
            "100%|██████████| 834/834 [00:26<00:00, 31.05it/s, loss=0.00143]\n",
            "100%|██████████| 834/834 [00:23<00:00, 35.19it/s, loss=0.000714]\n",
            "100%|██████████| 834/834 [00:24<00:00, 33.82it/s, loss=4.41e-5]\n",
            "100%|██████████| 834/834 [00:24<00:00, 34.68it/s, loss=0.0046]\n",
            "100%|██████████| 834/834 [00:21<00:00, 37.98it/s, loss=9.42e-5]\n",
            "100%|██████████| 834/834 [00:23<00:00, 35.90it/s, loss=8.53e-8]\n",
            "100%|██████████| 834/834 [00:24<00:00, 34.24it/s, loss=2.19e-5]\n",
            "100%|██████████| 834/834 [00:24<00:00, 33.98it/s, loss=1.69e-6]\n"
          ]
        }
      ],
      "id": "tCJV8gJFmZq6"
    },
    {
      "cell_type": "code",
      "source": [
        "model.eval()\n",
        "test_loss = 0\n",
        "test_correct = 0\n",
        "\n",
        "with torch.no_grad():\n",
        "    for smiles_features, labels in test_loader:\n",
        "        outputs = model(smiles_features)\n",
        "        labels = labels.unsqueeze(1).float()\n",
        "        test_loss += criterion(outputs, labels).item()\n",
        "\n",
        "        # Convert output probabilities to predictions\n",
        "        preds = (outputs > 0.5).float()\n",
        "        test_correct += (preds == labels).sum().item()\n",
        "\n",
        "test_loss /= len(test_loader)\n",
        "test_accuracy = test_correct / len(test_dataset)\n",
        "\n",
        "print(f'Test Loss: {test_loss:.4f}, Test Accuracy: {test_accuracy:.4f}')"
      ],
      "metadata": {
        "trusted": true,
        "colab": {
          "base_uri": "https://localhost:8080/"
        },
        "id": "jw8Z86wgmZq6",
        "outputId": "17967cc8-4eb1-47b6-e73c-9665d28b3659"
      },
      "execution_count": null,
      "outputs": [
        {
          "output_type": "stream",
          "name": "stdout",
          "text": [
            "Test Loss: 0.0405, Test Accuracy: 0.9970\n"
          ]
        }
      ],
      "id": "jw8Z86wgmZq6"
    },
    {
      "cell_type": "code",
      "source": [
        "import torch\n",
        "import matplotlib.pyplot as plt\n",
        "import seaborn as sns\n",
        "from sklearn.metrics import confusion_matrix, ConfusionMatrixDisplay\n",
        "\n",
        "# Assuming model, test_loader, and test_dataset are defined and available\n",
        "\n",
        "# Initialize lists to store true labels and predictions\n",
        "all_labels = []\n",
        "all_preds = []\n",
        "\n",
        "# Set the model to evaluation mode\n",
        "model.eval()\n",
        "\n",
        "with torch.no_grad():\n",
        "    for smiles_features, labels in test_loader:\n",
        "        outputs = model(smiles_features)\n",
        "        labels = labels.unsqueeze(1).float()\n",
        "\n",
        "        # Convert output logits to probabilities and then to predictions\n",
        "        probs = torch.sigmoid(outputs)\n",
        "        preds = (probs > 0.5).float()\n",
        "\n",
        "        all_labels.extend(labels.cpu().numpy())\n",
        "        all_preds.extend(preds.cpu().numpy())\n",
        "\n",
        "# Flatten the lists\n",
        "all_labels = [label[0] for label in all_labels]\n",
        "all_preds = [pred[0] for pred in all_preds]\n",
        "\n",
        "# Compute the confusion matrix\n",
        "cm = confusion_matrix(all_labels, all_preds)\n",
        "\n",
        "# Plot the confusion matrix\n",
        "plt.figure(figsize=(8, 6))\n",
        "sns.heatmap(cm, annot=True, fmt='d', cmap='Blues', xticklabels=['Negative', 'Positive'], yticklabels=['Negative', 'Positive'])\n",
        "plt.xlabel('Predicted Label')\n",
        "plt.ylabel('True Label')\n",
        "plt.title('Confusion Matrix')\n",
        "plt.show()\n"
      ],
      "metadata": {
        "colab": {
          "base_uri": "https://localhost:8080/",
          "height": 564
        },
        "id": "uobKARlfu7l4",
        "outputId": "368460f8-2bb3-44e7-86b8-ba6d43d1acf2"
      },
      "id": "uobKARlfu7l4",
      "execution_count": null,
      "outputs": [
        {
          "output_type": "display_data",
          "data": {
            "text/plain": [
              "<Figure size 800x600 with 2 Axes>"
            ],
            "image/png": "[encoded data removed]"
          },
          "metadata": {}
        }
      ]
    },
    {
      "cell_type": "markdown",
      "source": [
        "## Class weight"
      ],
      "metadata": {
        "id": "sd5EPVaSwWFk"
      },
      "id": "sd5EPVaSwWFk"
    },
    {
      "cell_type": "code",
      "source": [
        "import torch.nn as nn\n",
        "import torch.optim as optim\n",
        "import torch.nn as nn\n",
        "from tqdm import tqdm\n",
        "\n",
        "class SMILES_CNN(nn.Module):\n",
        "    def __init__(self):\n",
        "        super(SMILES_CNN, self).__init__()\n",
        "        self.conv1 = nn.Conv1d(in_channels=400, out_channels=64, kernel_size=5, padding=2)\n",
        "        self.conv2 = nn.Conv1d(in_channels=64, out_channels=64, kernel_size=5, padding=2)\n",
        "        self.pool1 = nn.MaxPool1d(kernel_size=2)\n",
        "        self.pool2 = nn.MaxPool1d(kernel_size=2)\n",
        "        self.fc1 = nn.Linear(640, 128)\n",
        "        self.fc2 = nn.Linear(128, 64)\n",
        "        self.fc3 = nn.Linear(64, 1)\n",
        "\n",
        "    def forward(self, x):\n",
        "        x = self.pool1(nn.functional.relu(self.conv1(x)))\n",
        "        x = self.pool2(nn.functional.relu(self.conv2(x)))\n",
        "        x = x.view(x.size(0), -1)\n",
        "        x = nn.functional.relu(self.fc1(x))\n",
        "        x = nn.functional.relu(self.fc2(x))\n",
        "        x = self.fc3(x)\n",
        "\n",
        "        return x\n",
        "\n",
        "model = SMILES_CNN()\n",
        "\n",
        "class_weights = [weight_negative, weight_positive]\n",
        "class_weights_tensor = torch.tensor(class_weights, dtype=torch.float)\n",
        "criterion = nn.BCEWithLogitsLoss(pos_weight=class_weights_tensor[1])\n",
        "\n",
        "lr = 0.001\n",
        "\n",
        "optimizer = optim.Adam(model.parameters(), lr = lr )\n",
        "num_epochs = 10\n",
        "\n",
        "for epoch in range(num_epochs):\n",
        "    loop = tqdm(train_loader, leave=True)\n",
        "    for smiles_features, labels in loop:\n",
        "        optimizer.zero_grad()\n",
        "        outputs = model(smiles_features)\n",
        "        labels = labels.unsqueeze(1).float()  # Adjust labels shape to [batch_size, 1]\n",
        "        loss = criterion(outputs, labels)\n",
        "        loss.backward()\n",
        "        optimizer.step()\n",
        "        loop.set_postfix(loss=loss.item())\n",
        "\n",
        "model.eval()\n",
        "test_loss = 0\n",
        "test_correct = 0\n",
        "\n",
        "with torch.no_grad():\n",
        "    for smiles_features, labels in test_loader:\n",
        "        outputs = model(smiles_features)\n",
        "        labels = labels.unsqueeze(1).float()\n",
        "        test_loss += criterion(outputs, labels).item()\n",
        "\n",
        "        # Convert output probabilities to predictions\n",
        "        preds = (outputs > 0.5).float()\n",
        "        test_correct += (preds == labels).sum().item()\n",
        "\n",
        "test_loss /= len(test_loader)\n",
        "test_accuracy = test_correct / len(test_dataset)\n",
        "\n",
        "print(f'Test Loss: {test_loss:.4f}, Test Accuracy: {test_accuracy:.4f}')\n",
        "\n",
        "import torch\n",
        "import matplotlib.pyplot as plt\n",
        "import seaborn as sns\n",
        "from sklearn.metrics import (\n",
        "    confusion_matrix,\n",
        "    ConfusionMatrixDisplay,\n",
        "    accuracy_score,\n",
        "    precision_score,\n",
        "    recall_score,\n",
        "    f1_score,\n",
        "    roc_auc_score,\n",
        "    roc_curve\n",
        ")\n",
        "\n",
        "# Assuming model, test_loader, and test_dataset are defined and available\n",
        "\n",
        "# Initialize lists to store true labels and predictions\n",
        "all_labels = []\n",
        "all_preds = []\n",
        "\n",
        "# Set the model to evaluation mode\n",
        "model.eval()\n",
        "\n",
        "with torch.no_grad():\n",
        "    for smiles_features, labels in test_loader:\n",
        "        outputs = model(smiles_features)\n",
        "        labels = labels.unsqueeze(1).float()\n",
        "\n",
        "        # Convert output logits to probabilities and then to predictions\n",
        "        probs = torch.sigmoid(outputs)\n",
        "        preds = (probs > 0.5).float()\n",
        "\n",
        "        all_labels.extend(labels.cpu().numpy())\n",
        "        all_preds.extend(preds.cpu().numpy())\n",
        "\n",
        "# Flatten the lists\n",
        "all_labels = [label[0] for label in all_labels]\n",
        "all_preds = [pred[0] for pred in all_preds]\n",
        "\n",
        "# Compute the confusion matrix\n",
        "cm = confusion_matrix(all_labels, all_preds)\n",
        "\n",
        "# Plot the confusion matrix\n",
        "plt.figure(figsize=(8, 6))\n",
        "sns.heatmap(cm, annot=True, fmt='d', cmap='Blues', xticklabels=['Negative', 'Positive'], yticklabels=['Negative', 'Positive'])\n",
        "plt.xlabel('Predicted Label')\n",
        "plt.ylabel('True Label')\n",
        "plt.title('Confusion Matrix')\n",
        "plt.show()\n",
        "\n",
        "# Compute other metrics\n",
        "accuracy = accuracy_score(all_labels, all_preds)\n",
        "precision = precision_score(all_labels, all_preds)\n",
        "recall = recall_score(all_labels, all_preds)\n",
        "f1 = f1_score(all_labels, all_preds)\n",
        "roc_auc = roc_auc_score(all_labels, all_preds)\n",
        "\n",
        "# Display the metrics\n",
        "print(f'Accuracy: {accuracy:.4f}')\n",
        "print(f'Precision: {precision:.4f}')\n",
        "print(f'Recall: {recall:.4f}')\n",
        "print(f'F1 Score: {f1:.4f}')\n",
        "print(f'ROC-AUC: {roc_auc:.4f}')\n",
        "\n",
        "# Plot ROC curve\n",
        "fpr, tpr, _ = roc_curve(all_labels, all_preds)\n",
        "plt.figure(figsize=(8, 6))\n",
        "plt.plot(fpr, tpr, color='blue', lw=2, label=f'ROC curve (area = {roc_auc:.4f})')\n",
        "plt.plot([0, 1], [0, 1], color='gray', lw=1, linestyle='--')\n",
        "plt.xlim([0.0, 1.0])\n",
        "plt.ylim([0.0, 1.05])\n",
        "plt.xlabel('False Positive Rate')\n",
        "plt.ylabel('True Positive Rate')\n",
        "plt.title('Receiver Operating Characteristic (ROC) Curve')\n",
        "plt.legend(loc=\"lower right\")\n",
        "plt.show()"
      ],
      "metadata": {
        "colab": {
          "base_uri": "https://localhost:8080/",
          "height": 1000
        },
        "id": "4br_ay4do1Qy",
        "outputId": "3e54063e-bb94-4a4b-c4df-c8048cacb32d"
      },
      "id": "4br_ay4do1Qy",
      "execution_count": null,
      "outputs": [
        {
          "output_type": "stream",
          "name": "stderr",
          "text": [
            "100%|██████████| 834/834 [00:22<00:00, 36.84it/s, loss=0.714]\n",
            "100%|██████████| 834/834 [00:22<00:00, 36.29it/s, loss=0.777]\n",
            "100%|██████████| 834/834 [00:22<00:00, 36.85it/s, loss=0.443]\n",
            "100%|██████████| 834/834 [00:21<00:00, 38.91it/s, loss=0.465]\n",
            "100%|██████████| 834/834 [00:23<00:00, 35.94it/s, loss=0.403]\n",
            "100%|██████████| 834/834 [00:22<00:00, 37.90it/s, loss=0.726]\n",
            "100%|██████████| 834/834 [00:21<00:00, 38.54it/s, loss=0.0519]\n",
            "100%|██████████| 834/834 [00:21<00:00, 38.80it/s, loss=0.0137]\n",
            "100%|██████████| 834/834 [00:22<00:00, 37.68it/s, loss=0.0012]\n",
            "100%|██████████| 834/834 [00:21<00:00, 39.26it/s, loss=0.248]\n"
          ]
        },
        {
          "output_type": "stream",
          "name": "stdout",
          "text": [
            "Test Loss: 2.1340, Test Accuracy: 0.9207\n"
          ]
        },
        {
          "output_type": "display_data",
          "data": {
            "text/plain": [
              "<Figure size 800x600 with 2 Axes>"
            ],
            "image/png": "[encoded data removed]"
          },
          "metadata": {}
        },
        {
          "output_type": "stream",
          "name": "stdout",
          "text": [
            "Accuracy: 0.9114\n",
            "Precision: 0.0201\n",
            "Recall: 0.6667\n",
            "F1 Score: 0.0390\n",
            "ROC-AUC: 0.7893\n"
          ]
        },
        {
          "output_type": "display_data",
          "data": {
            "text/plain": [
              "<Figure size 800x600 with 1 Axes>"
            ],
            "image/png": "[encoded data removed]"
          },
          "metadata": {}
        }
      ]
    },
    {
      "cell_type": "code",
      "source": [
        "from torchsummary import summary\n",
        "\n",
        "# Create your PyTorch model\n",
        "model = SMILES_CNN()\n",
        "\n",
        "# Print the model summary\n",
        "summary(model, input_size=(400, height, width))"
      ],
      "metadata": {
        "id": "IC7aOVgsu8kC"
      },
      "id": "IC7aOVgsu8kC",
      "execution_count": null,
      "outputs": []
    },
    {
      "cell_type": "markdown",
      "source": [
        "Improved model"
      ],
      "metadata": {
        "id": "zI2pcorEpkMe"
      },
      "id": "zI2pcorEpkMe"
    },
    {
      "cell_type": "code",
      "source": [
        "import torch.nn as nn\n",
        "import torch.optim as optim\n",
        "import torch.nn as nn\n",
        "from tqdm import tqdm\n",
        "\n",
        "class SMILES_CNN(nn.Module):\n",
        "    def __init__(self):\n",
        "        super(SMILES_CNN, self).__init__()\n",
        "        self.conv1 = nn.Conv1d(in_channels=400, out_channels=64, kernel_size=5, padding=2)\n",
        "        self.conv2 = nn.Conv1d(in_channels=64, out_channels=64, kernel_size=5, padding=2)\n",
        "        self.pool1 = nn.MaxPool1d(kernel_size=2)\n",
        "        self.pool2 = nn.MaxPool1d(kernel_size=2)\n",
        "        self.fc1 = nn.Linear(640, 128)\n",
        "        self.fc2 = nn.Linear(128, 64)\n",
        "        self.fc3 = nn.Linear(64, 1)\n",
        "\n",
        "    def forward(self, x):\n",
        "        x = self.pool1(nn.functional.relu(self.conv1(x)))\n",
        "        x = self.pool2(nn.functional.relu(self.conv2(x)))\n",
        "        x = x.view(x.size(0), -1)\n",
        "        x = nn.functional.relu(self.fc1(x))\n",
        "        x = nn.functional.relu(self.fc2(x))\n",
        "        x = self.fc3(x)\n",
        "\n",
        "        return x\n",
        "\n",
        "model = SMILES_CNN()\n",
        "\n",
        "class_weights = [weight_negative, weight_positive]\n",
        "class_weights_tensor = torch.tensor(class_weights, dtype=torch.float)\n",
        "criterion = nn.BCEWithLogitsLoss(pos_weight=class_weights_tensor[1])\n",
        "\n",
        "optimizer = optim.Adam(model.parameters(), lr = 0.001 )\n",
        "num_epochs = 10\n",
        "\n",
        "for epoch in range(num_epochs):\n",
        "    loop = tqdm(train_loader, leave=True)\n",
        "    for smiles_features, labels in loop:\n",
        "        optimizer.zero_grad()\n",
        "        outputs = model(smiles_features)\n",
        "        labels = labels.unsqueeze(1).float()  # Adjust labels shape to [batch_size, 1]\n",
        "        loss = criterion(outputs, labels)\n",
        "        loss.backward()\n",
        "        optimizer.step()\n",
        "        loop.set_postfix(loss=loss.item())\n",
        "\n",
        "model.eval()\n",
        "test_loss = 0\n",
        "test_correct = 0\n",
        "\n",
        "with torch.no_grad():\n",
        "    for smiles_features, labels in test_loader:\n",
        "        outputs = model(smiles_features)\n",
        "        labels = labels.unsqueeze(1).float()\n",
        "        test_loss += criterion(outputs, labels).item()\n",
        "\n",
        "        # Convert output probabilities to predictions\n",
        "        preds = (outputs > 0.5).float()\n",
        "        test_correct += (preds == labels).sum().item()\n",
        "\n",
        "test_loss /= len(test_loader)\n",
        "test_accuracy = test_correct / len(test_dataset)\n",
        "\n",
        "print(f'Test Loss: {test_loss:.4f}, Test Accuracy: {test_accuracy:.4f}')\n",
        "\n",
        "import torch\n",
        "import matplotlib.pyplot as plt\n",
        "import seaborn as sns\n",
        "from sklearn.metrics import (\n",
        "    confusion_matrix,\n",
        "    ConfusionMatrixDisplay,\n",
        "    accuracy_score,\n",
        "    precision_score,\n",
        "    recall_score,\n",
        "    f1_score,\n",
        "    roc_auc_score,\n",
        "    roc_curve\n",
        ")\n",
        "\n",
        "# Assuming model, test_loader, and test_dataset are defined and available\n",
        "\n",
        "# Initialize lists to store true labels and predictions\n",
        "all_labels = []\n",
        "all_preds = []\n",
        "\n",
        "# Set the model to evaluation mode\n",
        "model.eval()\n",
        "\n",
        "with torch.no_grad():\n",
        "    for smiles_features, labels in test_loader:\n",
        "        outputs = model(smiles_features)\n",
        "        labels = labels.unsqueeze(1).float()\n",
        "\n",
        "        # Convert output logits to probabilities and then to predictions\n",
        "        probs = torch.sigmoid(outputs)\n",
        "        preds = (probs > 0.5).float()\n",
        "\n",
        "        all_labels.extend(labels.cpu().numpy())\n",
        "        all_preds.extend(preds.cpu().numpy())\n",
        "\n",
        "# Flatten the lists\n",
        "all_labels = [label[0] for label in all_labels]\n",
        "all_preds = [pred[0] for pred in all_preds]\n",
        "\n",
        "# Compute the confusion matrix\n",
        "cm = confusion_matrix(all_labels, all_preds)\n",
        "\n",
        "# Plot the confusion matrix\n",
        "plt.figure(figsize=(8, 6))\n",
        "sns.heatmap(cm, annot=True, fmt='d', cmap='Blues', xticklabels=['Negative', 'Positive'], yticklabels=['Negative', 'Positive'])\n",
        "plt.xlabel('Predicted Label')\n",
        "plt.ylabel('True Label')\n",
        "plt.title('Confusion Matrix')\n",
        "plt.show()\n",
        "\n",
        "# Compute other metrics\n",
        "accuracy = accuracy_score(all_labels, all_preds)\n",
        "precision = precision_score(all_labels, all_preds)\n",
        "recall = recall_score(all_labels, all_preds)\n",
        "f1 = f1_score(all_labels, all_preds)\n",
        "roc_auc = roc_auc_score(all_labels, all_preds)\n",
        "\n",
        "# Display the metrics\n",
        "print(f'Accuracy: {accuracy:.4f}')\n",
        "print(f'Precision: {precision:.4f}')\n",
        "print(f'Recall: {recall:.4f}')\n",
        "print(f'F1 Score: {f1:.4f}')\n",
        "print(f'ROC-AUC: {roc_auc:.4f}')\n",
        "\n",
        "# Plot ROC curve\n",
        "fpr, tpr, _ = roc_curve(all_labels, all_preds)\n",
        "plt.figure(figsize=(8, 6))\n",
        "plt.plot(fpr, tpr, color='blue', lw=2, label=f'ROC curve (area = {roc_auc:.4f})')\n",
        "plt.plot([0, 1], [0, 1], color='gray', lw=1, linestyle='--')\n",
        "plt.xlim([0.0, 1.0])\n",
        "plt.ylim([0.0, 1.05])\n",
        "plt.xlabel('False Positive Rate')\n",
        "plt.ylabel('True Positive Rate')\n",
        "plt.title('Receiver Operating Characteristic (ROC) Curve')\n",
        "plt.legend(loc=\"lower right\")\n",
        "plt.show()"
      ],
      "metadata": {
        "id": "1OwSj1-Qpl85"
      },
      "id": "1OwSj1-Qpl85",
      "execution_count": null,
      "outputs": []
    }
  ]
}